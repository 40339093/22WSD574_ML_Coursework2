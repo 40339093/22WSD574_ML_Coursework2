{
 "cells": [
  {
   "cell_type": "markdown",
   "source": [
    "# 22WSD574 Machine Learning - Principles and Applications for Engineers\n",
    "## Coursework 2 - Arun Goyal (B911959)\n",
    "\n",
    "This project uses the [Diabetes Predicition Dataset](https://www.kaggle.com/datasets/iammustafatz/diabetes-prediction-dataset) by Mohammed Mustafa from Kaggle. The dataset consists of 9 columns, providing data such as gender, age, BMI, blood glucose levels and a boolean value stating whether the target has diabetes, containing 100,000 entries.\n",
    "\n",
    "### Project Aims:\n",
    "\n",
    "### Project Assumptions:\n",
    "\n",
    "### Project Objectives:\n",
    "- Identify the most significant risk factors that lead to a diabetes diagnosis\n",
    "- Use ensemble classification techniques to create a model capable of diagnosing diabetes\n",
    "  - Implement Random Forest and SVM to achieve this\n",
    "- Use Feature Engineering to identify distinguish between Type 1 and Type 2 diabetes\n",
    "\n",
    "---\n",
    "##### Step 1: Loading and validating the dataset\n",
    "- The data was loaded into a dataframe with most fields being interpretted as either Float64 or Int64\n",
    "- `smoking_history` column contained text with possible values `never`, `No Info`, `current`, `former`, `ever` and `not current`. These were enumerated into numerical values to be processed easier by the chosen classification models.\n",
    "  - `former` and `not current` grouped together as people who have previously smoked but do not currently\n",
    "  - The category `ever` was unclear and therefore grouped with `No Info`, being enumerated to a value of `NaN`\n",
    "- The remaining columns were checked for `NaN` values, none having been present within the dataset.\n",
    "  - As part of this check, columns containing boolean data was cast to a `bool` type to highlight anomalous entries within the dataset. This adjustment was only conducted on the copy dataframe such that numeric values are passed to the classification models.\n",
    "- The dataset was then split into training and testing sets with a 70/30 split. The features and labels within this were also separated.\n",
    "  - As the diabetes classification is the intended outcome from the developed model, the diabetes column is used as the data label with all other columns being provided as features."
   ],
   "metadata": {
    "collapsed": false
   }
  },
  {
   "cell_type": "code",
   "execution_count": 34,
   "outputs": [
    {
     "name": "stdout",
     "output_type": "stream",
     "text": [
      "gender                  object\n",
      "age                    float64\n",
      "hypertension             int64\n",
      "heart_disease            int64\n",
      "smoking_history         object\n",
      "bmi                    float64\n",
      "HbA1c_level            float64\n",
      "blood_glucose_level      int64\n",
      "diabetes                 int64\n",
      "dtype: object\n"
     ]
    }
   ],
   "source": [
    "import pandas as pd\n",
    "import numpy as np\n",
    "import matplotlib.pyplot as plt\n",
    "\n",
    "raw_df = pd.read_csv(\"diabetes_prediction_dataset.csv\")\n",
    "print(raw_df.dtypes)\n",
    "\n",
    "# Enumeration of the smoking_history column\n",
    "def history_enumeration(value):\n",
    "    if value == \"No Info\" or value == \"ever\":\n",
    "        return np.nan\n",
    "    elif value == \"never\":\n",
    "        return 0\n",
    "    elif value == \"former\" or value == \"not current\":\n",
    "        return 1\n",
    "    elif value == \"current\":\n",
    "        return 2\n",
    "    else:\n",
    "        return 5\n",
    "raw_df[\"smoking_history\"] = [history_enumeration(x[1][\"smoking_history\"]) for x in raw_df.iterrows()]"
   ],
   "metadata": {
    "collapsed": false
   }
  },
  {
   "cell_type": "code",
   "execution_count": 38,
   "outputs": [
    {
     "name": "stdout",
     "output_type": "stream",
     "text": [
      "NaN values in the Dataframe: False\n",
      "<class 'pandas.core.frame.DataFrame'>\n",
      "RangeIndex: 100000 entries, 0 to 99999\n",
      "Data columns (total 8 columns):\n",
      " #   Column               Non-Null Count   Dtype  \n",
      "---  ------               --------------   -----  \n",
      " 0   gender               100000 non-null  object \n",
      " 1   age                  100000 non-null  float64\n",
      " 2   hypertension         100000 non-null  bool   \n",
      " 3   heart_disease        100000 non-null  bool   \n",
      " 4   bmi                  100000 non-null  float64\n",
      " 5   HbA1c_level          100000 non-null  float64\n",
      " 6   blood_glucose_level  100000 non-null  int64  \n",
      " 7   diabetes             100000 non-null  bool   \n",
      "dtypes: bool(3), float64(3), int64(1), object(1)\n",
      "memory usage: 4.1+ MB\n"
     ]
    }
   ],
   "source": [
    "# Scan other dataframe columns for NaN values\n",
    "nan_check = raw_df[[\"gender\", \"age\", \"hypertension\", \"heart_disease\", \"bmi\", \"HbA1c_level\", \"blood_glucose_level\", \"diabetes\"]].copy()\n",
    "# Convert columns containing boolean values from Integers to Bools\n",
    "nan_check[\"hypertension\"] = raw_df[\"hypertension\"].astype(bool)\n",
    "nan_check[\"heart_disease\"] = raw_df[\"heart_disease\"].astype(bool)\n",
    "nan_check[\"diabetes\"] = raw_df[\"diabetes\"].astype(bool)\n",
    "print(f\"NaN values in the Dataframe: {nan_check.isnull().values.any()}\")\n",
    "nan_check.info()"
   ],
   "metadata": {
    "collapsed": false
   }
  },
  {
   "cell_type": "code",
   "execution_count": 33,
   "outputs": [
    {
     "data": {
      "text/plain": "                age  hypertension  heart_disease  smoking_history   \ncount  70000.000000  70000.000000   70000.000000     42183.000000  \\\nmean      41.908131      0.074814       0.039300         0.570585   \nstd       22.494630      0.263093       0.194309         0.743176   \nmin        0.080000      0.000000       0.000000         0.000000   \n25%       24.000000      0.000000       0.000000         0.000000   \n50%       43.000000      0.000000       0.000000         0.000000   \n75%       60.000000      0.000000       0.000000         1.000000   \nmax       80.000000      1.000000       1.000000         2.000000   \n\n                bmi   HbA1c_level  blood_glucose_level  \ncount  70000.000000  70000.000000         70000.000000  \nmean      27.326475      5.529660           138.112429  \nstd        6.655547      1.070964            40.731596  \nmin       10.010000      3.500000            80.000000  \n25%       23.630000      4.800000           100.000000  \n50%       27.320000      5.800000           140.000000  \n75%       29.560000      6.200000           159.000000  \nmax       95.690000      9.000000           300.000000  ",
      "text/html": "<div>\n<style scoped>\n    .dataframe tbody tr th:only-of-type {\n        vertical-align: middle;\n    }\n\n    .dataframe tbody tr th {\n        vertical-align: top;\n    }\n\n    .dataframe thead th {\n        text-align: right;\n    }\n</style>\n<table border=\"1\" class=\"dataframe\">\n  <thead>\n    <tr style=\"text-align: right;\">\n      <th></th>\n      <th>age</th>\n      <th>hypertension</th>\n      <th>heart_disease</th>\n      <th>smoking_history</th>\n      <th>bmi</th>\n      <th>HbA1c_level</th>\n      <th>blood_glucose_level</th>\n    </tr>\n  </thead>\n  <tbody>\n    <tr>\n      <th>count</th>\n      <td>70000.000000</td>\n      <td>70000.000000</td>\n      <td>70000.000000</td>\n      <td>42183.000000</td>\n      <td>70000.000000</td>\n      <td>70000.000000</td>\n      <td>70000.000000</td>\n    </tr>\n    <tr>\n      <th>mean</th>\n      <td>41.908131</td>\n      <td>0.074814</td>\n      <td>0.039300</td>\n      <td>0.570585</td>\n      <td>27.326475</td>\n      <td>5.529660</td>\n      <td>138.112429</td>\n    </tr>\n    <tr>\n      <th>std</th>\n      <td>22.494630</td>\n      <td>0.263093</td>\n      <td>0.194309</td>\n      <td>0.743176</td>\n      <td>6.655547</td>\n      <td>1.070964</td>\n      <td>40.731596</td>\n    </tr>\n    <tr>\n      <th>min</th>\n      <td>0.080000</td>\n      <td>0.000000</td>\n      <td>0.000000</td>\n      <td>0.000000</td>\n      <td>10.010000</td>\n      <td>3.500000</td>\n      <td>80.000000</td>\n    </tr>\n    <tr>\n      <th>25%</th>\n      <td>24.000000</td>\n      <td>0.000000</td>\n      <td>0.000000</td>\n      <td>0.000000</td>\n      <td>23.630000</td>\n      <td>4.800000</td>\n      <td>100.000000</td>\n    </tr>\n    <tr>\n      <th>50%</th>\n      <td>43.000000</td>\n      <td>0.000000</td>\n      <td>0.000000</td>\n      <td>0.000000</td>\n      <td>27.320000</td>\n      <td>5.800000</td>\n      <td>140.000000</td>\n    </tr>\n    <tr>\n      <th>75%</th>\n      <td>60.000000</td>\n      <td>0.000000</td>\n      <td>0.000000</td>\n      <td>1.000000</td>\n      <td>29.560000</td>\n      <td>6.200000</td>\n      <td>159.000000</td>\n    </tr>\n    <tr>\n      <th>max</th>\n      <td>80.000000</td>\n      <td>1.000000</td>\n      <td>1.000000</td>\n      <td>2.000000</td>\n      <td>95.690000</td>\n      <td>9.000000</td>\n      <td>300.000000</td>\n    </tr>\n  </tbody>\n</table>\n</div>"
     },
     "execution_count": 33,
     "metadata": {},
     "output_type": "execute_result"
    }
   ],
   "source": [
    "# Splitting of the data into training and testing sets\n",
    "from sklearn.model_selection import train_test_split\n",
    "train_features, test_features, train_labels, test_labels = train_test_split(raw_df[[\"gender\", \"age\", \"hypertension\", \"heart_disease\", \"smoking_history\", \"bmi\", \"HbA1c_level\", \"blood_glucose_level\"]], raw_df[\"diabetes\"], test_size=0.3)\n",
    "train_features.describe()"
   ],
   "metadata": {
    "collapsed": false
   }
  },
  {
   "cell_type": "markdown",
   "source": [
    "##### Step 2: Visualisation of pre-processed data\n"
   ],
   "metadata": {
    "collapsed": false
   }
  },
  {
   "cell_type": "code",
   "execution_count": 42,
   "outputs": [
    {
     "data": {
      "text/plain": "                       mean                                             \n                HbA1c_level        age blood_glucose_level        bmi   \ngender diabetes                                                         \nFemale 0           5.391509  40.935065          132.811429  27.022526  \\\n       1           6.939879  60.993499          193.942838  32.623898   \nMale   0           5.404354  38.934209          132.908668  26.691107   \n       1           6.929512  60.894776          194.262441  31.286467   \nOther  0           5.405556  29.555556          139.444444  27.379444   \n\n                        std                                            \n                HbA1c_level        age blood_glucose_level       bmi   \ngender diabetes                                                        \nFemale 0           0.972809  21.704353           34.213086  6.611745  \\\n       1           1.077035  14.903056           58.854519  8.240382   \nMale   0           0.969812  23.099105           34.297606  6.006659   \n       1           1.076148  14.151224           58.411327  6.656060   \nOther  0           1.135767  16.695270           33.380555  6.420016   \n\n                        min                                          max   \n                HbA1c_level   age blood_glucose_level    bmi HbA1c_level   \ngender diabetes                                                            \nFemale 0                3.5  0.08                  80  10.01         6.6  \\\n       1                5.7  4.00                 126  10.98         9.0   \nMale   0                3.5  0.08                  80  10.01         6.6   \n       1                5.7  3.00                 126  11.91         9.0   \nOther  0                3.5  7.00                  80  14.09         6.6   \n\n                                                  \n                  age blood_glucose_level    bmi  \ngender diabetes                                   \nFemale 0         80.0                 200  87.70  \n       1         80.0                 300  88.72  \nMale   0         80.0                 200  95.69  \n       1         80.0                 300  83.74  \nOther  0         55.0                 200  37.49  ",
      "text/html": "<div>\n<style scoped>\n    .dataframe tbody tr th:only-of-type {\n        vertical-align: middle;\n    }\n\n    .dataframe tbody tr th {\n        vertical-align: top;\n    }\n\n    .dataframe thead tr th {\n        text-align: left;\n    }\n\n    .dataframe thead tr:last-of-type th {\n        text-align: right;\n    }\n</style>\n<table border=\"1\" class=\"dataframe\">\n  <thead>\n    <tr>\n      <th></th>\n      <th></th>\n      <th colspan=\"4\" halign=\"left\">mean</th>\n      <th colspan=\"4\" halign=\"left\">std</th>\n      <th colspan=\"4\" halign=\"left\">min</th>\n      <th colspan=\"4\" halign=\"left\">max</th>\n    </tr>\n    <tr>\n      <th></th>\n      <th></th>\n      <th>HbA1c_level</th>\n      <th>age</th>\n      <th>blood_glucose_level</th>\n      <th>bmi</th>\n      <th>HbA1c_level</th>\n      <th>age</th>\n      <th>blood_glucose_level</th>\n      <th>bmi</th>\n      <th>HbA1c_level</th>\n      <th>age</th>\n      <th>blood_glucose_level</th>\n      <th>bmi</th>\n      <th>HbA1c_level</th>\n      <th>age</th>\n      <th>blood_glucose_level</th>\n      <th>bmi</th>\n    </tr>\n    <tr>\n      <th>gender</th>\n      <th>diabetes</th>\n      <th></th>\n      <th></th>\n      <th></th>\n      <th></th>\n      <th></th>\n      <th></th>\n      <th></th>\n      <th></th>\n      <th></th>\n      <th></th>\n      <th></th>\n      <th></th>\n      <th></th>\n      <th></th>\n      <th></th>\n      <th></th>\n    </tr>\n  </thead>\n  <tbody>\n    <tr>\n      <th rowspan=\"2\" valign=\"top\">Female</th>\n      <th>0</th>\n      <td>5.391509</td>\n      <td>40.935065</td>\n      <td>132.811429</td>\n      <td>27.022526</td>\n      <td>0.972809</td>\n      <td>21.704353</td>\n      <td>34.213086</td>\n      <td>6.611745</td>\n      <td>3.5</td>\n      <td>0.08</td>\n      <td>80</td>\n      <td>10.01</td>\n      <td>6.6</td>\n      <td>80.0</td>\n      <td>200</td>\n      <td>87.70</td>\n    </tr>\n    <tr>\n      <th>1</th>\n      <td>6.939879</td>\n      <td>60.993499</td>\n      <td>193.942838</td>\n      <td>32.623898</td>\n      <td>1.077035</td>\n      <td>14.903056</td>\n      <td>58.854519</td>\n      <td>8.240382</td>\n      <td>5.7</td>\n      <td>4.00</td>\n      <td>126</td>\n      <td>10.98</td>\n      <td>9.0</td>\n      <td>80.0</td>\n      <td>300</td>\n      <td>88.72</td>\n    </tr>\n    <tr>\n      <th rowspan=\"2\" valign=\"top\">Male</th>\n      <th>0</th>\n      <td>5.404354</td>\n      <td>38.934209</td>\n      <td>132.908668</td>\n      <td>26.691107</td>\n      <td>0.969812</td>\n      <td>23.099105</td>\n      <td>34.297606</td>\n      <td>6.006659</td>\n      <td>3.5</td>\n      <td>0.08</td>\n      <td>80</td>\n      <td>10.01</td>\n      <td>6.6</td>\n      <td>80.0</td>\n      <td>200</td>\n      <td>95.69</td>\n    </tr>\n    <tr>\n      <th>1</th>\n      <td>6.929512</td>\n      <td>60.894776</td>\n      <td>194.262441</td>\n      <td>31.286467</td>\n      <td>1.076148</td>\n      <td>14.151224</td>\n      <td>58.411327</td>\n      <td>6.656060</td>\n      <td>5.7</td>\n      <td>3.00</td>\n      <td>126</td>\n      <td>11.91</td>\n      <td>9.0</td>\n      <td>80.0</td>\n      <td>300</td>\n      <td>83.74</td>\n    </tr>\n    <tr>\n      <th>Other</th>\n      <th>0</th>\n      <td>5.405556</td>\n      <td>29.555556</td>\n      <td>139.444444</td>\n      <td>27.379444</td>\n      <td>1.135767</td>\n      <td>16.695270</td>\n      <td>33.380555</td>\n      <td>6.420016</td>\n      <td>3.5</td>\n      <td>7.00</td>\n      <td>80</td>\n      <td>14.09</td>\n      <td>6.6</td>\n      <td>55.0</td>\n      <td>200</td>\n      <td>37.49</td>\n    </tr>\n  </tbody>\n</table>\n</div>"
     },
     "execution_count": 42,
     "metadata": {},
     "output_type": "execute_result"
    }
   ],
   "source": [
    "raw_df.pivot_table(values=[\"age\", \"bmi\", \"HbA1c_level\", \"blood_glucose_level\"], index=[\"gender\",\"diabetes\"], aggfunc=[np.mean, np.std, min, max])"
   ],
   "metadata": {
    "collapsed": false
   }
  },
  {
   "cell_type": "code",
   "execution_count": null,
   "outputs": [],
   "source": [],
   "metadata": {
    "collapsed": false
   }
  }
 ],
 "metadata": {
  "kernelspec": {
   "display_name": "Python 3",
   "language": "python",
   "name": "python3"
  },
  "language_info": {
   "codemirror_mode": {
    "name": "ipython",
    "version": 2
   },
   "file_extension": ".py",
   "mimetype": "text/x-python",
   "name": "python",
   "nbconvert_exporter": "python",
   "pygments_lexer": "ipython2",
   "version": "2.7.6"
  }
 },
 "nbformat": 4,
 "nbformat_minor": 0
}
